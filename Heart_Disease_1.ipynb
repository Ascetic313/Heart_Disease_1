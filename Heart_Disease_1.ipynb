{
 "cells": [
  {
   "cell_type": "code",
   "execution_count": null,
   "id": "2ccf83af",
   "metadata": {},
   "outputs": [],
   "source": [
    "# import libraries\n",
    "import codecademylib3\n",
    "import pandas as pd\n",
    "import numpy as np\n",
    "from scipy.stats import ttest_1samp\n",
    "from scipy.stats import binom_test\n",
    "# load data\n",
    "heart = pd.read_csv('heart_disease.csv')\n",
    "yes_hd = heart[heart.heart_disease == 'presence']\n",
    "no_hd = heart[heart.heart_disease == 'absence']\n",
    "\n",
    "# Analyzing Patients with Cholesterol Level:\n",
    "chol_hd = yes_hd['chol']\n",
    "print(chol_hd.mean())\n",
    "print(\"Since the mean cholestrol level is approximately 251mg/dl which is greater than 240mg/dl\")\n",
    "\n",
    "# Conducting a One Sample Test with cholestrol levels:\n",
    "tstat, pval = ttest_1samp(chol_hd, 240)\n",
    "print(pval/2)\n",
    "print(\"Since the pvalue is 0.0035, then we  reject the null hypothesis and conclude with 95% confidence level that the mean level of cholestrol level is greater than 240 mg/dl.\")\n",
    "\n",
    "#Conducting a One Sample Test without cholestrol levels:\n",
    "chol_hd2 = no_hd['chol']\n",
    "print(chol_hd2.mean())\n",
    "print(\"Since the mean cholestrol level is approximately 242.642 mg/dl which is greater than 240mg/dl\")\n",
    "tstat, pval = ttest_1samp(chol_hd2, 240)\n",
    "print(pval/2)\n",
    "print(\"Since the pvalue is 0.2639, then we fail to reject the null hypothesis and conclude with 95% confidence level that the mean level of cholestrol level is equal 240 mg/dl.\")\n",
    "\n",
    "# Analyzing \"Heart\" Dataset:\n",
    "num_patients = len(heart)\n",
    "print(num_patients)\n",
    "print(\"There are 303 patients in this data set.\")\n",
    "num_highfbs_patients = (heart.fbs == 1)\n",
    "print(num_highfbs_patients.sum())\n",
    "print(num_patients * 0.08)\n",
    "print(\"There will be approximately 24 people who will be diabetic and this is different from the 45 people who have resting blood sugar above 120 mg/dl\")\n",
    "\n",
    "# Conducting a Binomial test:\n",
    "pval = binom_test(num_highfbs_patients.sum(), num_patients, 0.08, alternative='greater')\n",
    "print(pval)\n",
    "print(\"Since the pvalue is less than 5% we can, with 95% confidence level conclude that the sample was drawn from a population where 8% of people have fasting blood sugar > 120mg / dl.\")"
   ]
  }
 ],
 "metadata": {
  "kernelspec": {
   "display_name": "Python 3",
   "language": "python",
   "name": "python3"
  },
  "language_info": {
   "codemirror_mode": {
    "name": "ipython",
    "version": 3
   },
   "file_extension": ".py",
   "mimetype": "text/x-python",
   "name": "python",
   "nbconvert_exporter": "python",
   "pygments_lexer": "ipython3",
   "version": "3.8.8"
  }
 },
 "nbformat": 4,
 "nbformat_minor": 5
}
